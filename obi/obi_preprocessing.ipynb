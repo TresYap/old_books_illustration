{
 "cells": [
  {
   "cell_type": "markdown",
   "metadata": {},
   "source": [
    "# Old Books Illustration CNN Classifier\n",
    "### Image classification practice\n",
    " This has no real practical use other than educational purposes \n",
    " \n",
    "Tutorial from: sentdex"
   ]
  },
  {
   "cell_type": "code",
   "execution_count": 1,
   "metadata": {},
   "outputs": [],
   "source": [
    "import numpy as np\n",
    "import matplotlib.pyplot as plt\n",
    "import os\n",
    "import cv2 "
   ]
  },
  {
   "cell_type": "code",
   "execution_count": 2,
   "metadata": {},
   "outputs": [],
   "source": [
    "# for category in categories:\n",
    "#     for img in os.listdir(category):\n",
    "#         img_array = cv2.imread(os.path.join(category, img), cv2.IMREAD_GRAYSCALE)\n",
    "#         plt.imshow(img_array, cmap=\"gray\")\n",
    "#         plt.show()\n",
    "#         break\n",
    "#     break"
   ]
  },
  {
   "cell_type": "code",
   "execution_count": 3,
   "metadata": {},
   "outputs": [],
   "source": [
    "# img_size = 150\n",
    "# new_array = cv2.resize(img_array, (img_size, img_size))\n",
    "# plt.imshow(new_array, cmap=\"gray\")"
   ]
  },
  {
   "cell_type": "code",
   "execution_count": 4,
   "metadata": {},
   "outputs": [],
   "source": [
    "# #Rescaling to 150 because some images look really weird \n",
    "# size = 256\n",
    "# test_img = cv2.imread(os.path.join(\"People\", \"158.jpg\"), cv2.IMREAD_GRAYSCALE)\n",
    "# scaled_img = cv2.resize(test_img, (size, size))\n",
    "# plt.imshow(scaled_img, cmap=\"gray\")\n",
    "# plt.show()"
   ]
  },
  {
   "cell_type": "code",
   "execution_count": 13,
   "metadata": {},
   "outputs": [],
   "source": [
    "training_data = []\n",
    "categories = [\"People\", \"Landscape\"]\n",
    "size = 100\n",
    "def create_training_data():\n",
    "    for category in categories:\n",
    "        class_num = categories.index(category)\n",
    "        for img in os.listdir(category):\n",
    "            try:\n",
    "                img_array = cv2.imread(os.path.join(category, img), cv2.IMREAD_GRAYSCALE)\n",
    "                scaled_img = cv2.resize(img_array, (size, size))\n",
    "                training_data.append([scaled_img, class_num])\n",
    "            except Exception as e:\n",
    "                print(e)"
   ]
  },
  {
   "cell_type": "code",
   "execution_count": 14,
   "metadata": {},
   "outputs": [],
   "source": [
    "create_training_data()"
   ]
  },
  {
   "cell_type": "code",
   "execution_count": 15,
   "metadata": {},
   "outputs": [
    {
     "data": {
      "text/plain": [
       "689"
      ]
     },
     "execution_count": 15,
     "metadata": {},
     "output_type": "execute_result"
    }
   ],
   "source": [
    "len(training_data)"
   ]
  },
  {
   "cell_type": "code",
   "execution_count": 16,
   "metadata": {},
   "outputs": [],
   "source": [
    "#To randomize the data that enters the CNN\n",
    "import random\n",
    "\n",
    "random.shuffle(training_data)"
   ]
  },
  {
   "cell_type": "code",
   "execution_count": 17,
   "metadata": {},
   "outputs": [],
   "source": [
    "X = []\n",
    "y = []"
   ]
  },
  {
   "cell_type": "code",
   "execution_count": 18,
   "metadata": {},
   "outputs": [],
   "source": [
    "for features, label in training_data:\n",
    "    X.append(features)\n",
    "    y.append(label)"
   ]
  },
  {
   "cell_type": "code",
   "execution_count": 19,
   "metadata": {},
   "outputs": [],
   "source": [
    "X = np.array(X).reshape(-1, size, size, 1)"
   ]
  },
  {
   "cell_type": "code",
   "execution_count": 20,
   "metadata": {},
   "outputs": [],
   "source": [
    "import pickle\n",
    "\n",
    "with open(\"X.pickle\", \"wb\") as pickle_out: \n",
    "    pickle.dump(X, pickle_out)\n",
    "    pickle_out.close()\n",
    "    \n",
    "with open(\"y.pickle\", \"wb\") as pickle_out: \n",
    "    pickle.dump(y, pickle_out)\n",
    "    pickle_out.close()"
   ]
  },
  {
   "cell_type": "code",
   "execution_count": null,
   "metadata": {},
   "outputs": [],
   "source": []
  }
 ],
 "metadata": {
  "kernelspec": {
   "display_name": "Python 3",
   "language": "python",
   "name": "python3"
  },
  "language_info": {
   "codemirror_mode": {
    "name": "ipython",
    "version": 3
   },
   "file_extension": ".py",
   "mimetype": "text/x-python",
   "name": "python",
   "nbconvert_exporter": "python",
   "pygments_lexer": "ipython3",
   "version": "3.6.5"
  }
 },
 "nbformat": 4,
 "nbformat_minor": 2
}
