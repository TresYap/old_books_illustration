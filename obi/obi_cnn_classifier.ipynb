{
 "cells": [
  {
   "cell_type": "code",
   "execution_count": 5,
   "metadata": {},
   "outputs": [],
   "source": [
    "import numpy as np\n",
    "import pickle\n",
    "import tensorflow as tf \n",
    "from tensorflow.keras.models import Sequential\n",
    "from tensorflow.keras.layers import Dense, Dropout, Activation, Flatten, Conv2D, MaxPooling2D"
   ]
  },
  {
   "cell_type": "code",
   "execution_count": 6,
   "metadata": {},
   "outputs": [],
   "source": [
    "X = pickle.load(open(\"X.pickle\", \"rb\"))\n",
    "y = pickle.load(open(\"y.pickle\", \"rb\"))\n",
    "X = X/255\n",
    "y = np.array(y)"
   ]
  },
  {
   "cell_type": "code",
   "execution_count": 11,
   "metadata": {},
   "outputs": [],
   "source": [
    "## Neural Network\n",
    "\n",
    "model = Sequential()\n",
    "\n",
    "#add a conv and maxpooling layer\n",
    "#filter size is 3x3, with 64 nodes in the layer\n",
    "#number of panels to max pool (4 panels)\n",
    "\n",
    "model.add(Conv2D(64, (3,3), input_shape=X.shape[1:], padding=\"same\", activation=\"relu\"))\n",
    "model.add(MaxPooling2D(pool_size=(2,2)))\n",
    "model.add(Dropout(0.1))\n",
    "\n",
    "model.add(Conv2D(64, (3,3), input_shape=X.shape[1:], padding=\"same\", activation=\"relu\"))\n",
    "model.add(MaxPooling2D(pool_size=(2,2)))\n",
    "model.add(Dropout(0.1))\n",
    "\n",
    "model.add(Conv2D(64, (3,3), input_shape=X.shape[1:], padding=\"same\", activation=\"relu\"))\n",
    "model.add(MaxPooling2D(pool_size=(2,2)))\n",
    "model.add(Dropout(0.1))\n",
    "\n",
    "#Conv2D layer accepts 2D data, Dense only accepts 1D\n",
    "model.add(Flatten())\n",
    "model.add(Dense(64, activation=\"relu\"))\n",
    "\n",
    "#output layer (1 layer because binary classification)\n",
    "model.add(Dense(1, activation=\"sigmoid\"))\n",
    "\n",
    "model.compile(loss=\"binary_crossentropy\",\n",
    "              optimizer=\"adam\",\n",
    "              metrics=['accuracy'])"
   ]
  },
  {
   "cell_type": "code",
   "execution_count": 12,
   "metadata": {},
   "outputs": [
    {
     "name": "stdout",
     "output_type": "stream",
     "text": [
      "Train on 551 samples, validate on 138 samples\n",
      "Epoch 1/20\n",
      "551/551 [==============================] - 8s 14ms/sample - loss: 0.7205 - accuracy: 0.5045 - val_loss: 0.6908 - val_accuracy: 0.7246\n",
      "Epoch 2/20\n",
      "551/551 [==============================] - 7s 13ms/sample - loss: 0.6811 - accuracy: 0.5880 - val_loss: 0.6356 - val_accuracy: 0.7826\n",
      "Epoch 3/20\n",
      "551/551 [==============================] - 7s 13ms/sample - loss: 0.5471 - accuracy: 0.7695 - val_loss: 0.3880 - val_accuracy: 0.7899\n",
      "Epoch 4/20\n",
      "551/551 [==============================] - 7s 13ms/sample - loss: 0.4423 - accuracy: 0.7931 - val_loss: 0.4040 - val_accuracy: 0.7971\n",
      "Epoch 5/20\n",
      "551/551 [==============================] - 7s 13ms/sample - loss: 0.4367 - accuracy: 0.8094 - val_loss: 0.3820 - val_accuracy: 0.8406\n",
      "Epoch 6/20\n",
      "551/551 [==============================] - 7s 13ms/sample - loss: 0.4418 - accuracy: 0.8004 - val_loss: 0.3876 - val_accuracy: 0.8406\n",
      "Epoch 7/20\n",
      "551/551 [==============================] - 7s 13ms/sample - loss: 0.3977 - accuracy: 0.8203 - val_loss: 0.3497 - val_accuracy: 0.7899\n",
      "Epoch 8/20\n",
      "551/551 [==============================] - 7s 13ms/sample - loss: 0.3869 - accuracy: 0.8203 - val_loss: 0.3758 - val_accuracy: 0.7899\n",
      "Epoch 9/20\n",
      "551/551 [==============================] - 7s 13ms/sample - loss: 0.3632 - accuracy: 0.8330 - val_loss: 0.3383 - val_accuracy: 0.8261\n",
      "Epoch 10/20\n",
      "551/551 [==============================] - 7s 13ms/sample - loss: 0.3624 - accuracy: 0.8403 - val_loss: 0.3578 - val_accuracy: 0.8261\n",
      "Epoch 11/20\n",
      "551/551 [==============================] - 7s 13ms/sample - loss: 0.3565 - accuracy: 0.8403 - val_loss: 0.3416 - val_accuracy: 0.8333\n",
      "Epoch 12/20\n",
      "551/551 [==============================] - 7s 13ms/sample - loss: 0.3466 - accuracy: 0.8421 - val_loss: 0.3299 - val_accuracy: 0.8188\n",
      "Epoch 13/20\n",
      "551/551 [==============================] - 7s 13ms/sample - loss: 0.3432 - accuracy: 0.8439 - val_loss: 0.3765 - val_accuracy: 0.8116\n",
      "Epoch 14/20\n",
      "551/551 [==============================] - 7s 13ms/sample - loss: 0.3121 - accuracy: 0.8603 - val_loss: 0.3348 - val_accuracy: 0.8478\n",
      "Epoch 15/20\n",
      "551/551 [==============================] - 8s 14ms/sample - loss: 0.2741 - accuracy: 0.8711 - val_loss: 0.3304 - val_accuracy: 0.8696\n",
      "Epoch 16/20\n",
      "551/551 [==============================] - 7s 13ms/sample - loss: 0.2629 - accuracy: 0.8838 - val_loss: 0.3360 - val_accuracy: 0.8406\n",
      "Epoch 17/20\n",
      "551/551 [==============================] - 8s 14ms/sample - loss: 0.2374 - accuracy: 0.9020 - val_loss: 0.3344 - val_accuracy: 0.8551\n",
      "Epoch 18/20\n",
      "551/551 [==============================] - 8s 14ms/sample - loss: 0.2168 - accuracy: 0.9111 - val_loss: 0.4364 - val_accuracy: 0.8116\n",
      "Epoch 19/20\n",
      "551/551 [==============================] - 8s 14ms/sample - loss: 0.2329 - accuracy: 0.9002 - val_loss: 0.3787 - val_accuracy: 0.8188\n",
      "Epoch 20/20\n",
      "551/551 [==============================] - 8s 14ms/sample - loss: 0.1828 - accuracy: 0.9256 - val_loss: 0.3773 - val_accuracy: 0.8043\n"
     ]
    },
    {
     "data": {
      "text/plain": [
       "<tensorflow.python.keras.callbacks.History at 0x246c86fe518>"
      ]
     },
     "execution_count": 12,
     "metadata": {},
     "output_type": "execute_result"
    }
   ],
   "source": [
    "#pass 32 images at a time, with a 90-10 validation split\n",
    "model.fit(X, y, batch_size=32, epochs=20, validation_split=0.2)"
   ]
  },
  {
   "cell_type": "code",
   "execution_count": null,
   "metadata": {},
   "outputs": [],
   "source": []
  }
 ],
 "metadata": {
  "kernelspec": {
   "display_name": "Python 3",
   "language": "python",
   "name": "python3"
  },
  "language_info": {
   "codemirror_mode": {
    "name": "ipython",
    "version": 3
   },
   "file_extension": ".py",
   "mimetype": "text/x-python",
   "name": "python",
   "nbconvert_exporter": "python",
   "pygments_lexer": "ipython3",
   "version": "3.6.5"
  }
 },
 "nbformat": 4,
 "nbformat_minor": 2
}
