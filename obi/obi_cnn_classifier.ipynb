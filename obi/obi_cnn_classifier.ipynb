{
 "cells": [
  {
   "cell_type": "code",
   "execution_count": 19,
   "metadata": {},
   "outputs": [],
   "source": [
    "import numpy as np\n",
    "import pickle\n",
    "import tensorflow as tf \n",
    "from tensorflow.keras.models import Sequential\n",
    "from tensorflow.keras.layers import Dense, Dropout, Activation, Flatten, Conv2D, MaxPooling2D"
   ]
  },
  {
   "cell_type": "code",
   "execution_count": 20,
   "metadata": {},
   "outputs": [],
   "source": [
    "X = pickle.load(open(\"X.pickle\", \"rb\"))\n",
    "y = pickle.load(open(\"y.pickle\", \"rb\"))\n",
    "X = X/255\n",
    "y = np.array(y)"
   ]
  },
  {
   "cell_type": "code",
   "execution_count": 32,
   "metadata": {},
   "outputs": [],
   "source": [
    "## Neural Network\n",
    "\n",
    "model = Sequential()\n",
    "\n",
    "#add a conv and maxpooling layer\n",
    "#filter size is 3x3, with 64 nodes in the layer\n",
    "#number of panels to max pool (4 panels)\n",
    "\n",
    "model.add(Conv2D(64, (3,3), input_shape=X.shape[1:]))\n",
    "model.add(Activation(\"relu\"))\n",
    "model.add(MaxPooling2D(pool_size=(2,2)))\n",
    "model.add(Dropout(0.2))\n",
    "\n",
    "model.add(Conv2D(64, (3,3), input_shape=X.shape[1:]))\n",
    "model.add(Activation(\"relu\"))\n",
    "model.add(MaxPooling2D(pool_size=(2,2)))\n",
    "model.add(Dropout(0.2))\n",
    "\n",
    "model.add(Conv2D(64, (3,3), input_shape=X.shape[1:]))\n",
    "model.add(Activation(\"relu\"))\n",
    "model.add(MaxPooling2D(pool_size=(2,2)))\n",
    "model.add(Dropout(0.2))\n",
    "\n",
    "#Conv2D layer accepts 2D data, Dense only accepts 1D\n",
    "model.add(Flatten())\n",
    "# model.add(Dense(64))\n",
    "# model.add(Activation(\"relu\"))\n",
    "\n",
    "#output layer (1 layer because binary classification)\n",
    "model.add(Dense(1))\n",
    "model.add(Activation(\"sigmoid\"))\n",
    "\n",
    "model.compile(loss=\"binary_crossentropy\",\n",
    "              optimizer=\"adam\",\n",
    "              metrics=['accuracy'])"
   ]
  },
  {
   "cell_type": "code",
   "execution_count": 33,
   "metadata": {},
   "outputs": [
    {
     "name": "stdout",
     "output_type": "stream",
     "text": [
      "Train on 551 samples, validate on 138 samples\n",
      "Epoch 1/10\n",
      "551/551 [==============================] - 25s 45ms/sample - loss: 0.7024 - accuracy: 0.5336 - val_loss: 0.6780 - val_accuracy: 0.6957\n",
      "Epoch 2/10\n",
      "551/551 [==============================] - 25s 45ms/sample - loss: 0.5888 - accuracy: 0.6824 - val_loss: 0.4453 - val_accuracy: 0.8043\n",
      "Epoch 3/10\n",
      "551/551 [==============================] - 26s 47ms/sample - loss: 0.4843 - accuracy: 0.7877 - val_loss: 0.4129 - val_accuracy: 0.8043\n",
      "Epoch 4/10\n",
      "551/551 [==============================] - 28s 51ms/sample - loss: 0.4554 - accuracy: 0.7840 - val_loss: 0.4242 - val_accuracy: 0.8116\n",
      "Epoch 5/10\n",
      "551/551 [==============================] - 27s 49ms/sample - loss: 0.4240 - accuracy: 0.8004 - val_loss: 0.4508 - val_accuracy: 0.7826\n",
      "Epoch 6/10\n",
      "551/551 [==============================] - 28s 50ms/sample - loss: 0.4256 - accuracy: 0.7895 - val_loss: 0.4099 - val_accuracy: 0.8333\n",
      "Epoch 7/10\n",
      "551/551 [==============================] - 27s 50ms/sample - loss: 0.3921 - accuracy: 0.8131 - val_loss: 0.5133 - val_accuracy: 0.7536\n",
      "Epoch 8/10\n",
      "551/551 [==============================] - 28s 51ms/sample - loss: 0.4265 - accuracy: 0.7913 - val_loss: 0.3897 - val_accuracy: 0.8623\n",
      "Epoch 9/10\n",
      "551/551 [==============================] - 28s 52ms/sample - loss: 0.3763 - accuracy: 0.8240 - val_loss: 0.3842 - val_accuracy: 0.8478\n",
      "Epoch 10/10\n",
      "551/551 [==============================] - 27s 50ms/sample - loss: 0.3667 - accuracy: 0.8221 - val_loss: 0.3853 - val_accuracy: 0.8551\n"
     ]
    },
    {
     "data": {
      "text/plain": [
       "<tensorflow.python.keras.callbacks.History at 0x295995fecf8>"
      ]
     },
     "execution_count": 33,
     "metadata": {},
     "output_type": "execute_result"
    }
   ],
   "source": [
    "#pass 32 images at a time, with a 90-10 validation split\n",
    "model.fit(X, y, batch_size=32, epochs=10, validation_split=0.2)"
   ]
  },
  {
   "cell_type": "code",
   "execution_count": null,
   "metadata": {},
   "outputs": [],
   "source": []
  }
 ],
 "metadata": {
  "kernelspec": {
   "display_name": "Python 3",
   "language": "python",
   "name": "python3"
  },
  "language_info": {
   "codemirror_mode": {
    "name": "ipython",
    "version": 3
   },
   "file_extension": ".py",
   "mimetype": "text/x-python",
   "name": "python",
   "nbconvert_exporter": "python",
   "pygments_lexer": "ipython3",
   "version": "3.6.5"
  }
 },
 "nbformat": 4,
 "nbformat_minor": 2
}
